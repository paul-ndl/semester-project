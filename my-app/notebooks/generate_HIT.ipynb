{
 "cells": [
  {
   "cell_type": "code",
   "execution_count": 1,
   "id": "3ef1bc53",
   "metadata": {},
   "outputs": [],
   "source": [
    "import numpy as np\n",
    "import random\n",
    "import json"
   ]
  },
  {
   "cell_type": "code",
   "execution_count": 2,
   "id": "e6909c7a",
   "metadata": {},
   "outputs": [],
   "source": [
    "num_items = 500\n",
    "num_hits = 10\n",
    "num_similarity=2\n",
    "num_preference=2\n",
    "num_salience=2"
   ]
  },
  {
   "cell_type": "code",
   "execution_count": 3,
   "id": "f5d5d6c0",
   "metadata": {},
   "outputs": [],
   "source": [
    "random.seed(0)\n",
    "\n",
    "items = list(range(num_items))\n",
    "\n",
    "hits = []\n",
    "for hit_idx in range(num_hits):\n",
    "    hit = {}\n",
    "    \n",
    "    similarity_questions = []\n",
    "    for similarity_idx in range(num_similarity):\n",
    "        a,b,c = random.sample(items, 3)\n",
    "        similarity_questions.append({\"a\":a, \"b\":b, \"c\":c})\n",
    "    hit[\"similarity_questions\"] = similarity_questions\n",
    "    \n",
    "    \n",
    "    preference_questions = []\n",
    "    for similarity_idx in range(num_similarity):\n",
    "        a,b = random.sample(items, 2)\n",
    "        preference_questions.append({\"a\":a, \"b\":b})\n",
    "    hit[\"preference_questions\"] = preference_questions\n",
    "    \n",
    "    \n",
    "    salience_questions = []\n",
    "    for similarity_idx in range(num_similarity):\n",
    "        a = random.sample(items, 1)\n",
    "        preference_questions.append({\"a\":a})\n",
    "    hit[\"salience_questions\"] = salience_questions\n",
    "    \n",
    "    hits.append(hit)"
   ]
  },
  {
   "cell_type": "code",
   "execution_count": 4,
   "id": "d1e44742",
   "metadata": {},
   "outputs": [],
   "source": [
    "with open(\"./../src/generated/hits.json\", \"w\") as file:\n",
    "    json.dump(hits, file)"
   ]
  },
  {
   "cell_type": "code",
   "execution_count": null,
   "id": "f3e734ba",
   "metadata": {},
   "outputs": [],
   "source": []
  }
 ],
 "metadata": {
  "kernelspec": {
   "display_name": "Python 3 (ipykernel)",
   "language": "python",
   "name": "python3"
  },
  "language_info": {
   "codemirror_mode": {
    "name": "ipython",
    "version": 3
   },
   "file_extension": ".py",
   "mimetype": "text/x-python",
   "name": "python",
   "nbconvert_exporter": "python",
   "pygments_lexer": "ipython3",
   "version": "3.10.9"
  }
 },
 "nbformat": 4,
 "nbformat_minor": 5
}
